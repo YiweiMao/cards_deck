{
 "cells": [
  {
   "cell_type": "markdown",
   "metadata": {},
   "source": [
    "# Deck of Cards\n",
    "\n",
    "> A minimal example of using nbdev to create a python library"
   ]
  },
  {
   "cell_type": "markdown",
   "metadata": {},
   "source": [
    "This repo uses code based on [Allen Downey's](http://allendowney.com/) [ThinkPython2](https://github.com/AllenDowney/ThinkPython2)."
   ]
  },
  {
   "cell_type": "markdown",
   "metadata": {},
   "source": [
    "## Install"
   ]
  },
  {
   "cell_type": "markdown",
   "metadata": {},
   "source": [
    "After cloning this repository:"
   ]
  },
  {
   "cell_type": "markdown",
   "metadata": {},
   "source": [
    "`pip install -e .`"
   ]
  },
  {
   "cell_type": "markdown",
   "metadata": {},
   "source": [
    ":::{.callout-caution}\n",
    "\n",
    "This project is an example of how to create python packages with [nbdev](https://github.com/fastai/nbdev). It's not a fully-fledged card dealing library!\n",
    "\n",
    ":::"
   ]
  },
  {
   "cell_type": "markdown",
   "metadata": {},
   "source": [
    "## How to use"
   ]
  },
  {
   "cell_type": "markdown",
   "metadata": {},
   "source": [
    "Playing cards in python!"
   ]
  },
  {
   "cell_type": "code",
   "execution_count": null,
   "metadata": {},
   "outputs": [
    {
     "name": "stdout",
     "output_type": "stream",
     "text": [
      "Number of playing cards in the deck: 52\n"
     ]
    }
   ],
   "source": [
    "from cards_deck.deck import Deck\n",
    "d = Deck()\n",
    "print(f'Number of playing cards in the deck: {len(d)}')"
   ]
  },
  {
   "cell_type": "code",
   "execution_count": null,
   "metadata": {},
   "outputs": [
    {
     "data": {
      "text/plain": [
       "(K♠️, 51)"
      ]
     },
     "execution_count": null,
     "metadata": {},
     "output_type": "execute_result"
    }
   ],
   "source": [
    "card = d.pop()\n",
    "card, len(d)"
   ]
  },
  {
   "cell_type": "markdown",
   "metadata": {},
   "source": [
    "See [the docs](https://isaac-flath.github.io/deck_of_cards/) for more info.\n"
   ]
  },
  {
   "cell_type": "markdown",
   "metadata": {},
   "source": [
    "### The `draw_cards` cli:"
   ]
  },
  {
   "cell_type": "markdown",
   "metadata": {},
   "source": [
    "We included a handy cli you can use to draw cards as well!"
   ]
  },
  {
   "cell_type": "code",
   "execution_count": null,
   "metadata": {},
   "outputs": [
    {
     "name": "stdout",
     "output_type": "stream",
     "text": [
      "usage: draw_cards [-h] [--replace] [--outfile OUTFILE] n\r\n",
      "\r\n",
      "Draw `n` cards optionally with replacement\r\n",
      "\r\n",
      "positional arguments:\r\n",
      "  n                  number of cards to draw\r\n",
      "\r\n",
      "optional arguments:\r\n",
      "  -h, --help         show this help message and exit\r\n",
      "  --replace          whether or not draw with replacement (default: False)\r\n",
      "  --outfile OUTFILE  output file, defaults to stdout\r\n"
     ]
    }
   ],
   "source": [
    "!draw_cards -h"
   ]
  },
  {
   "cell_type": "code",
   "execution_count": null,
   "metadata": {},
   "outputs": [
    {
     "name": "stdout",
     "output_type": "stream",
     "text": [
      "5❤️\r\n",
      "6❤️\r\n",
      "10♠️\r\n",
      "4♣️\r\n",
      "A♣️\r\n",
      "A❤️\r\n",
      "9❤️\r\n",
      "4❤️\r\n",
      "K❤️\r\n",
      "3♣️\r\n"
     ]
    }
   ],
   "source": [
    "!draw_cards 10"
   ]
  },
  {
   "cell_type": "code",
   "execution_count": null,
   "metadata": {},
   "outputs": [],
   "source": []
  }
 ],
 "metadata": {
  "kernelspec": {
   "display_name": "Python 3 (ipykernel)",
   "language": "python",
   "name": "python3"
  }
 },
 "nbformat": 4,
 "nbformat_minor": 4
}
