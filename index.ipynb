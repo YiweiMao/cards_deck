{
 "cells": [
  {
   "cell_type": "markdown",
   "metadata": {},
   "source": [
    "# Deck of Cards\n",
    "\n",
    "> A minimal example of using nbdev to create a python library"
   ]
  },
  {
   "cell_type": "markdown",
   "metadata": {},
   "source": [
    "This repo uses code based on [Allen Downey's](http://allendowney.com/) [ThinkPython2](https://github.com/AllenDowney/ThinkPython2)."
   ]
  },
  {
   "cell_type": "markdown",
   "metadata": {},
   "source": [
    "## Install"
   ]
  },
  {
   "cell_type": "markdown",
   "metadata": {},
   "source": [
    "After cloning this repository:"
   ]
  },
  {
   "cell_type": "markdown",
   "metadata": {},
   "source": [
    "`pip install -e .`"
   ]
  },
  {
   "cell_type": "markdown",
   "metadata": {},
   "source": [
    ":::{.callout-caution}\n",
    "\n",
    "There is already a project called [deck_of_cards on pypi](https://pypi.org/project/deck-of-cards/). This project has no relation to that. This project is an example of how to create python packages with [nbdev](https://github.com/fastai/nbdev).\n",
    "\n",
    ":::"
   ]
  },
  {
   "cell_type": "markdown",
   "metadata": {},
   "source": [
    "## How to use"
   ]
  },
  {
   "cell_type": "markdown",
   "metadata": {},
   "source": [
    "Playing cards in python!"
   ]
  },
  {
   "cell_type": "code",
   "execution_count": null,
   "metadata": {},
   "outputs": [
    {
     "name": "stdout",
     "output_type": "stream",
     "text": [
      "Number of playing cards in the deck: 52\n"
     ]
    }
   ],
   "source": [
    "from hamel_deck_of_cards.deck import Deck\n",
    "d = Deck()\n",
    "print(f'Number of playing cards in the deck: {len(d)}')"
   ]
  },
  {
   "cell_type": "code",
   "execution_count": null,
   "metadata": {},
   "outputs": [
    {
     "data": {
      "text/plain": [
       "(K♠️, 51)"
      ]
     },
     "execution_count": null,
     "metadata": {},
     "output_type": "execute_result"
    }
   ],
   "source": [
    "card = d.pop()\n",
    "card, len(d)"
   ]
  },
  {
   "cell_type": "markdown",
   "metadata": {},
   "source": [
    "See [the docs](https://isaac-flath.github.io/deck_of_cards/) for more info.\n"
   ]
  },
  {
   "cell_type": "markdown",
   "metadata": {},
   "source": [
    "### The `draw_cards` cli:"
   ]
  },
  {
   "cell_type": "markdown",
   "metadata": {},
   "source": [
    "We included a handy cli you can use to draw cards as well!"
   ]
  },
  {
   "cell_type": "code",
   "execution_count": null,
   "metadata": {},
   "outputs": [
    {
     "name": "stdout",
     "output_type": "stream",
     "text": [
      "usage: draw_cards [-h] [--replace] [--outfile OUTFILE] n\n",
      "\n",
      "Draw `n` cards optionally with replacement\n",
      "\n",
      "positional arguments:\n",
      "  n                  number of cards to draw\n",
      "\n",
      "optional arguments:\n",
      "  -h, --help         show this help message and exit\n",
      "  --replace          whether or not draw with replacement (default: False)\n",
      "  --outfile OUTFILE  output file, defaults to stdout\n"
     ]
    }
   ],
   "source": [
    "!draw_cards -h"
   ]
  },
  {
   "cell_type": "code",
   "execution_count": null,
   "metadata": {},
   "outputs": [
    {
     "name": "stdout",
     "output_type": "stream",
     "text": [
      "J♦️\n",
      "9♦️\n",
      "3♠️\n",
      "4♦️\n",
      "5♣️\n",
      "6♦️\n",
      "3♣️\n",
      "10♣️\n",
      "3♦️\n",
      "4❤️\n"
     ]
    }
   ],
   "source": [
    "!draw_cards 10"
   ]
  },
  {
   "cell_type": "code",
   "execution_count": null,
   "metadata": {},
   "outputs": [],
   "source": []
  }
 ],
 "metadata": {
  "kernelspec": {
   "display_name": "Python 3 (ipykernel)",
   "language": "python",
   "name": "python3"
  }
 },
 "nbformat": 4,
 "nbformat_minor": 4
}
