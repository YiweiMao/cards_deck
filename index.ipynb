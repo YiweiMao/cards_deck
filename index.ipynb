{
 "cells": [
  {
   "cell_type": "markdown",
   "metadata": {},
   "source": [
    "# Deck of Cards\n",
    "\n",
    "https://fastai.github.io/deck_of_cards/\n",
    "\n",
    "> A minimal example of using nbdev to create a python library.\n"
   ]
  },
  {
   "cell_type": "markdown",
   "metadata": {},
   "source": [
    "This repo uses code from [Allen Downey's](http://allendowney.com/) [ThinkPython2](https://github.com/AllenDowney/ThinkPython2). _This file was automatically generated from a Jupyter Notebook using [nbdev](https://nbdev.fast.ai/). to change it you must edit [index.ipynb](https://github.com/isaac-flath/deck_of_cards/blob/master/index.ipynb)._"
   ]
  },
  {
   "cell_type": "markdown",
   "metadata": {},
   "source": [
    "## Install"
   ]
  },
  {
   "cell_type": "markdown",
   "metadata": {},
   "source": [
    "After cloning this repository:"
   ]
  },
  {
   "cell_type": "markdown",
   "metadata": {},
   "source": [
    "`pip install -e .`"
   ]
  },
  {
   "cell_type": "markdown",
   "metadata": {},
   "source": [
    ":::{.callout-caution}\n",
    "\n",
    "There is already a project called [deck_of_cards on pypi](https://pypi.org/project/deck-of-cards/). This project has no relation to that. This project is an example of how to create python packages with [nbdev](https://github.com/fastai/nbdev).\n",
    "\n",
    ":::"
   ]
  },
  {
   "cell_type": "markdown",
   "metadata": {},
   "source": [
    "## How to use"
   ]
  },
  {
   "cell_type": "markdown",
   "metadata": {},
   "source": [
    "Playing cards in python!"
   ]
  },
  {
   "cell_type": "code",
   "execution_count": null,
   "metadata": {},
   "outputs": [
    {
     "name": "stdout",
     "output_type": "stream",
     "text": [
      "Number of playing cards in the deck: 52\n"
     ]
    }
   ],
   "source": [
    "from deck_of_cards.deck import Deck\n",
    "d = Deck()\n",
    "print(f'Number of playing cards in the deck: {len(d.cards)}')"
   ]
  },
  {
   "cell_type": "code",
   "execution_count": null,
   "metadata": {},
   "outputs": [
    {
     "name": "stdout",
     "output_type": "stream",
     "text": [
      "King of Spades\n"
     ]
    }
   ],
   "source": [
    "card = d.pop_card()\n",
    "print(card)"
   ]
  },
  {
   "cell_type": "markdown",
   "metadata": {},
   "source": [
    "See [the docs](https://isaac-flath.github.io/deck_of_cards/) for more info.\n"
   ]
  },
  {
   "cell_type": "markdown",
   "metadata": {},
   "source": [
    "### The `draw_cards` cli:\n",
    "\n",
    "We included a handy cli you can use to draw cards as well!"
   ]
  },
  {
   "cell_type": "code",
   "execution_count": null,
   "metadata": {},
   "outputs": [
    {
     "name": "stdout",
     "output_type": "stream",
     "text": [
      "usage: draw_cards [-h] [--replace] [--outfile OUTFILE] n\n",
      "\n",
      "Draw `n` cards optionally with replacement.\n",
      "\n",
      "positional arguments:\n",
      "  n                  number of cards to draw\n",
      "\n",
      "optional arguments:\n",
      "  -h, --help         show this help message and exit\n",
      "  --replace          whether or not draw with replacement (default: False)\n",
      "  --outfile OUTFILE  output file, defaults to stdout\n"
     ]
    }
   ],
   "source": [
    "!draw_cards -h"
   ]
  },
  {
   "cell_type": "code",
   "execution_count": null,
   "metadata": {},
   "outputs": [
    {
     "name": "stdout",
     "output_type": "stream",
     "text": [
      "2 of Hearts\n",
      "8 of Spades\n",
      "Queen of Clubs\n",
      "Queen of Diamonds\n",
      "Jack of Spades\n",
      "5 of Clubs\n",
      "8 of Diamonds\n",
      "6 of Clubs\n",
      "3 of Clubs\n",
      "7 of Hearts"
     ]
    }
   ],
   "source": [
    "!draw_cards 10"
   ]
  }
 ],
 "metadata": {
  "kernelspec": {
   "display_name": "Python 3 (ipykernel)",
   "language": "python",
   "name": "python3"
  }
 },
 "nbformat": 4,
 "nbformat_minor": 4
}
